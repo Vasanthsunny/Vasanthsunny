{
  "nbformat": 4,
  "nbformat_minor": 0,
  "metadata": {
    "colab": {
      "name": "mathfound2.ipynb",
      "provenance": [],
      "authorship_tag": "ABX9TyOpjHfUHEKGsSSJo8V6NkGz",
      "include_colab_link": true
    },
    "kernelspec": {
      "name": "python3",
      "display_name": "Python 3"
    },
    "language_info": {
      "name": "python"
    }
  },
  "cells": [
    {
      "cell_type": "markdown",
      "metadata": {
        "id": "view-in-github",
        "colab_type": "text"
      },
      "source": [
        "<a href=\"https://colab.research.google.com/github/Vasanthsunny/Vasanthsunny/blob/main/mathfound2.ipynb\" target=\"_parent\"><img src=\"https://colab.research.google.com/assets/colab-badge.svg\" alt=\"Open In Colab\"/></a>"
      ]
    },
    {
      "cell_type": "code",
      "metadata": {
        "id": "e2vvWSNitb6J"
      },
      "source": [
        "import numpy as np\n"
      ],
      "execution_count": null,
      "outputs": []
    },
    {
      "cell_type": "code",
      "metadata": {
        "id": "kRnbDpgStlmC"
      },
      "source": [
        "import tensorflow as tf"
      ],
      "execution_count": null,
      "outputs": []
    },
    {
      "cell_type": "code",
      "metadata": {
        "id": "wTxoCkR1trVs"
      },
      "source": [
        "x=np.array([[1,2],[-1,2]])\n",
        "w=np.array([[1,0.5],[2,1]])"
      ],
      "execution_count": null,
      "outputs": []
    },
    {
      "cell_type": "code",
      "metadata": {
        "id": "xM3mHCWxuEoF"
      },
      "source": [
        "b=np.array([-2.0,.5])"
      ],
      "execution_count": null,
      "outputs": []
    },
    {
      "cell_type": "code",
      "metadata": {
        "colab": {
          "base_uri": "https://localhost:8080/"
        },
        "id": "2N7C6ktluNpK",
        "outputId": "e7212997-1c00-4bc9-e965-965c20ea3ea9"
      },
      "source": [
        "w.shape"
      ],
      "execution_count": null,
      "outputs": [
        {
          "output_type": "execute_result",
          "data": {
            "text/plain": [
              "(2, 2)"
            ]
          },
          "metadata": {},
          "execution_count": 13
        }
      ]
    },
    {
      "cell_type": "code",
      "metadata": {
        "id": "4ABAHBQouPMQ"
      },
      "source": [
        "z=np.dot(w,x)+b"
      ],
      "execution_count": null,
      "outputs": []
    },
    {
      "cell_type": "code",
      "metadata": {
        "colab": {
          "base_uri": "https://localhost:8080/"
        },
        "id": "v2FkzvOKueU4",
        "outputId": "ded9b969-3854-4aef-ca17-269478d656ea"
      },
      "source": [
        "z.shape"
      ],
      "execution_count": null,
      "outputs": [
        {
          "output_type": "execute_result",
          "data": {
            "text/plain": [
              "(2, 2)"
            ]
          },
          "metadata": {},
          "execution_count": 9
        }
      ]
    },
    {
      "cell_type": "code",
      "metadata": {
        "colab": {
          "base_uri": "https://localhost:8080/"
        },
        "id": "fPbmn4rpujc2",
        "outputId": "3d102a08-5d4f-4987-e4fe-ce1d477eceea"
      },
      "source": [
        "z"
      ],
      "execution_count": null,
      "outputs": [
        {
          "output_type": "execute_result",
          "data": {
            "text/plain": [
              "array([[-1.5,  3.5],\n",
              "       [-1. ,  6.5]])"
            ]
          },
          "metadata": {},
          "execution_count": 19
        }
      ]
    },
    {
      "cell_type": "code",
      "metadata": {
        "id": "3BgOrQbPu1DB"
      },
      "source": [
        "relu=np.maximum(0.,z)"
      ],
      "execution_count": null,
      "outputs": []
    },
    {
      "cell_type": "code",
      "metadata": {
        "colab": {
          "base_uri": "https://localhost:8080/"
        },
        "id": "iA2junLmwLDF",
        "outputId": "b3b4d45a-518c-449b-d824-39f7606e8685"
      },
      "source": [
        "relu"
      ],
      "execution_count": null,
      "outputs": [
        {
          "output_type": "execute_result",
          "data": {
            "text/plain": [
              "array([[0. , 3.5],\n",
              "       [0. , 6.5]])"
            ]
          },
          "metadata": {},
          "execution_count": 22
        }
      ]
    },
    {
      "cell_type": "code",
      "metadata": {
        "id": "nNQWpStCwSzm"
      },
      "source": [
        "import matplotlib.pyplot as plt\n"
      ],
      "execution_count": null,
      "outputs": []
    },
    {
      "cell_type": "code",
      "metadata": {
        "id": "D-mGS760wiTt"
      },
      "source": [
        "x1=np.linspace(-10,10,100)\n",
        "z=np.maximum(0.,x1)"
      ],
      "execution_count": null,
      "outputs": []
    },
    {
      "cell_type": "code",
      "metadata": {
        "colab": {
          "base_uri": "https://localhost:8080/",
          "height": 284
        },
        "id": "pS9u8qjQwxw3",
        "outputId": "a39a2893-8243-48b0-aee5-afb3db716bec"
      },
      "source": [
        "plt.plot(x1,z)"
      ],
      "execution_count": null,
      "outputs": [
        {
          "output_type": "execute_result",
          "data": {
            "text/plain": [
              "[<matplotlib.lines.Line2D at 0x7f818693ded0>]"
            ]
          },
          "metadata": {},
          "execution_count": 30
        },
        {
          "output_type": "display_data",
          "data": {
            "image/png": "[encoded data removed]",
            "text/plain": [
              "<Figure size 432x288 with 1 Axes>"
            ]
          },
          "metadata": {
            "needs_background": "light"
          }
        }
      ]
    },
    {
      "cell_type": "code",
      "metadata": {
        "id": "i3stg7Fr6bHw"
      },
      "source": [
        "dataset=tf.data.Dataset.from_tensor_slices([8,3,2,8,5,6,1])"
      ],
      "execution_count": null,
      "outputs": []
    },
    {
      "cell_type": "code",
      "metadata": {
        "colab": {
          "base_uri": "https://localhost:8080/"
        },
        "id": "hBUtnudW6vPh",
        "outputId": "e4ec7834-05a6-48ac-91b6-114d6efcd593"
      },
      "source": [
        "dataset"
      ],
      "execution_count": null,
      "outputs": [
        {
          "output_type": "execute_result",
          "data": {
            "text/plain": [
              "<TensorSliceDataset shapes: (), types: tf.int32>"
            ]
          },
          "metadata": {},
          "execution_count": 35
        }
      ]
    },
    {
      "cell_type": "code",
      "metadata": {
        "colab": {
          "base_uri": "https://localhost:8080/"
        },
        "id": "LLs1bopy6wyd",
        "outputId": "3f592214-fc94-4ea1-95d9-a361910dee6a"
      },
      "source": [
        "for ele in dataset:\n",
        "  print(ele.numpy())"
      ],
      "execution_count": null,
      "outputs": [
        {
          "output_type": "stream",
          "text": [
            "8\n",
            "3\n",
            "2\n",
            "8\n",
            "5\n",
            "6\n",
            "1\n"
          ],
          "name": "stdout"
        }
      ]
    },
    {
      "cell_type": "code",
      "metadata": {
        "colab": {
          "base_uri": "https://localhost:8080/"
        },
        "id": "JO5_l7U16576",
        "outputId": "6bcfb7c6-e4af-42e2-d499-21803bc6140b"
      },
      "source": [
        "print(dataset.reduce(0,lambda state,value:state+value).numpy())"
      ],
      "execution_count": null,
      "outputs": [
        {
          "output_type": "stream",
          "text": [
            "33\n"
          ],
          "name": "stdout"
        }
      ]
    },
    {
      "cell_type": "code",
      "metadata": {
        "id": "PDi04pHL9Zyw"
      },
      "source": [
        "d1=tf.data.Dataset.from_tensor_slices(tf.random.uniform([4,10]))"
      ],
      "execution_count": null,
      "outputs": []
    },
    {
      "cell_type": "code",
      "metadata": {
        "colab": {
          "base_uri": "https://localhost:8080/"
        },
        "id": "IYa448t8-t6d",
        "outputId": "25026c52-0e76-4660-aa31-befae1eb9d75"
      },
      "source": [
        "d1.element_spec"
      ],
      "execution_count": null,
      "outputs": [
        {
          "output_type": "execute_result",
          "data": {
            "text/plain": [
              "TensorSpec(shape=(10,), dtype=tf.float32, name=None)"
            ]
          },
          "metadata": {},
          "execution_count": 42
        }
      ]
    },
    {
      "cell_type": "code",
      "metadata": {
        "id": "M_P3kgkw-0Vi"
      },
      "source": [
        "d2=tf.data.Dataset.from_tensor_slices(\n",
        "    (tf.random.uniform([4]),\n",
        "    tf.random.uniform([4,100],maxval=100,dtype=tf.int32))\n",
        "    )"
      ],
      "execution_count": null,
      "outputs": []
    },
    {
      "cell_type": "code",
      "metadata": {
        "colab": {
          "base_uri": "https://localhost:8080/"
        },
        "id": "l0YiRKbV_hke",
        "outputId": "df424161-3951-4bae-be7c-960ffc98a6fa"
      },
      "source": [
        "d2.element_spec"
      ],
      "execution_count": null,
      "outputs": [
        {
          "output_type": "execute_result",
          "data": {
            "text/plain": [
              "(TensorSpec(shape=(), dtype=tf.float32, name=None),\n",
              " TensorSpec(shape=(100,), dtype=tf.int32, name=None))"
            ]
          },
          "metadata": {},
          "execution_count": 48
        }
      ]
    },
    {
      "cell_type": "code",
      "metadata": {
        "id": "fev_g0M6_8Z7"
      },
      "source": [
        "inc=tf.data.Dataset.range(100)\n",
        "dec=tf.data.Dataset.range(0,-100,-1)\n",
        "dat=tf.data.Dataset.zip((inc,dec))\n"
      ],
      "execution_count": null,
      "outputs": []
    },
    {
      "cell_type": "code",
      "metadata": {
        "colab": {
          "base_uri": "https://localhost:8080/"
        },
        "id": "Y2qUk38YChZc",
        "outputId": "79d403eb-91f8-4380-f825-02b8d5e8ff4a"
      },
      "source": [
        "batch=dat.batch(4)\n",
        "it=iter(batch)\n",
        "for batch in batch.take(6):\n",
        "  print([arr.numpy() for arr in batch])"
      ],
      "execution_count": null,
      "outputs": [
        {
          "output_type": "stream",
          "text": [
            "[array([0, 1, 2, 3]), array([ 0, -1, -2, -3])]\n",
            "[array([4, 5, 6, 7]), array([-4, -5, -6, -7])]\n",
            "[array([ 8,  9, 10, 11]), array([ -8,  -9, -10, -11])]\n",
            "[array([12, 13, 14, 15]), array([-12, -13, -14, -15])]\n",
            "[array([16, 17, 18, 19]), array([-16, -17, -18, -19])]\n",
            "[array([20, 21, 22, 23]), array([-20, -21, -22, -23])]\n"
          ],
          "name": "stdout"
        }
      ]
    },
    {
      "cell_type": "code",
      "metadata": {
        "id": "ZHDfcFDXDEnU",
        "colab": {
          "base_uri": "https://localhost:8080/"
        },
        "outputId": "ced3ce15-dcf7-4aa6-819f-08e7338b9063"
      },
      "source": [
        "batch"
      ],
      "execution_count": null,
      "outputs": [
        {
          "output_type": "execute_result",
          "data": {
            "text/plain": [
              "(<tf.Tensor: shape=(4,), dtype=int64, numpy=array([20, 21, 22, 23])>,\n",
              " <tf.Tensor: shape=(4,), dtype=int64, numpy=array([-20, -21, -22, -23])>)"
            ]
          },
          "metadata": {},
          "execution_count": 58
        }
      ]
    },
    {
      "cell_type": "code",
      "metadata": {
        "id": "tYVyBBKlE0sm"
      },
      "source": [
        "bat1=dataset.batch(3,drop_remainder=True)"
      ],
      "execution_count": null,
      "outputs": []
    },
    {
      "cell_type": "code",
      "metadata": {
        "id": "7L2fXOBcFGoR",
        "colab": {
          "base_uri": "https://localhost:8080/"
        },
        "outputId": "8992a3ac-22ad-4bae-d2e3-c799d86dbe83"
      },
      "source": [
        "bat1"
      ],
      "execution_count": null,
      "outputs": [
        {
          "output_type": "execute_result",
          "data": {
            "text/plain": [
              "<BatchDataset shapes: (3,), types: tf.int32>"
            ]
          },
          "metadata": {},
          "execution_count": 60
        }
      ]
    },
    {
      "cell_type": "code",
      "metadata": {
        "id": "0-6eCETTFHxz"
      },
      "source": [
        ""
      ],
      "execution_count": null,
      "outputs": []
    }
  ]
}